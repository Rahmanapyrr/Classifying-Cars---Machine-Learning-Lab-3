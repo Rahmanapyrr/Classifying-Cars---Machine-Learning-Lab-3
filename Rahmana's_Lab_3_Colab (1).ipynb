{
  "nbformat": 4,
  "nbformat_minor": 0,
  "metadata": {
    "colab": {
      "name": "Rahmana's Lab 3 Colab.ipynb",
      "provenance": [],
      "collapsed_sections": []
    },
    "kernelspec": {
      "name": "python3",
      "display_name": "Python 3"
    }
  },
  "cells": [
    {
      "cell_type": "markdown",
      "metadata": {
        "id": "0TaOncfCOjTR"
      },
      "source": [
        "# **Lab 3: Classifying Cars**"
      ]
    },
    {
      "cell_type": "code",
      "metadata": {
        "id": "ci4nOSqfObQT",
        "outputId": "c318b0ce-85f6-4705-994d-5aabae8f08ae",
        "colab": {
          "base_uri": "https://localhost:8080/"
        }
      },
      "source": [
        "# TensorFlow and tf.keras\n",
        "import tensorflow as tf\n",
        "from tensorflow import keras\n",
        "\n",
        "# Helper libraries\n",
        "import numpy as np\n",
        "import matplotlib.pyplot as plt\n",
        "\n",
        "print(tf.__version__)"
      ],
      "execution_count": null,
      "outputs": [
        {
          "output_type": "stream",
          "text": [
            "2.3.0\n"
          ],
          "name": "stdout"
        }
      ]
    },
    {
      "cell_type": "markdown",
      "metadata": {
        "id": "G2ppl8FAOxqt"
      },
      "source": [
        "Import the Data"
      ]
    },
    {
      "cell_type": "code",
      "metadata": {
        "id": "Qc6M5vYdO1wc"
      },
      "source": [
        "#dataset = http://l2r.cs.uiuc.edu/~cogcomp/Data/Car/CarData.tar.gz\n",
        "\n",
        "car_detection = tf.keras.datasets.cifar100.load_data(label_mode=\"fine\")\n",
        "\n",
        "# (train_images, train_labels),(test_images, test_labels) = tf.keras.datasets.cifar100.load_data()\n",
        "data = tf.keras.datasets.cifar100.load_data()\n",
        "\n",
        "train = data[0]\n",
        "test = data[1]\n",
        "\n",
        "train_image, train_label = train[0].astype(np.float32), train[1]\n",
        "test_image, test_label= test[0].astype(np.float32), test[1]\n",
        "\n",
        "train_label = np.reshape(train_label, newshape=[-1])\n",
        "test_label = np.reshape(test_label, newshape=[-1])\n",
        "\n"
      ],
      "execution_count": null,
      "outputs": []
    },
    {
      "cell_type": "code",
      "metadata": {
        "id": "3kw0tQ9NREln"
      },
      "source": [
        "class_names = ['airplane','automobile','bird','truck','cat','deer','dog','frog','horse','ship','truck']"
      ],
      "execution_count": null,
      "outputs": []
    },
    {
      "cell_type": "markdown",
      "metadata": {
        "id": "NJWzfq3CRZZ9"
      },
      "source": [
        "Explore the Data"
      ]
    },
    {
      "cell_type": "code",
      "metadata": {
        "id": "ApKUDLflRjnQ",
        "outputId": "9d161b80-23a1-481f-f25f-fd87de57be70",
        "colab": {
          "base_uri": "https://localhost:8080/"
        }
      },
      "source": [
        "train_images.shape"
      ],
      "execution_count": null,
      "outputs": [
        {
          "output_type": "execute_result",
          "data": {
            "text/plain": [
              "(50000, 32, 32, 3)"
            ]
          },
          "metadata": {
            "tags": []
          },
          "execution_count": 83
        }
      ]
    },
    {
      "cell_type": "code",
      "metadata": {
        "id": "Y9M5ipANRrqB",
        "outputId": "c9fffee1-34ca-4f5f-c970-864c6df17260",
        "colab": {
          "base_uri": "https://localhost:8080/"
        }
      },
      "source": [
        "len(train_labels)"
      ],
      "execution_count": null,
      "outputs": [
        {
          "output_type": "execute_result",
          "data": {
            "text/plain": [
              "50000"
            ]
          },
          "metadata": {
            "tags": []
          },
          "execution_count": 84
        }
      ]
    },
    {
      "cell_type": "code",
      "metadata": {
        "id": "LIbKTnwhRv6q",
        "outputId": "6de98de9-d402-46b9-9770-4ade11dfce0b",
        "colab": {
          "base_uri": "https://localhost:8080/"
        }
      },
      "source": [
        "train_labels"
      ],
      "execution_count": null,
      "outputs": [
        {
          "output_type": "execute_result",
          "data": {
            "text/plain": [
              "array([[19],\n",
              "       [29],\n",
              "       [ 0],\n",
              "       ...,\n",
              "       [ 3],\n",
              "       [ 7],\n",
              "       [73]])"
            ]
          },
          "metadata": {
            "tags": []
          },
          "execution_count": 69
        }
      ]
    },
    {
      "cell_type": "code",
      "metadata": {
        "id": "wm_ugBHpR5j1",
        "outputId": "3325a4a3-dd57-4369-d50e-71471a907bbb",
        "colab": {
          "base_uri": "https://localhost:8080/"
        }
      },
      "source": [
        "test_images.shape"
      ],
      "execution_count": null,
      "outputs": [
        {
          "output_type": "execute_result",
          "data": {
            "text/plain": [
              "(10000, 32, 32, 3)"
            ]
          },
          "metadata": {
            "tags": []
          },
          "execution_count": 68
        }
      ]
    },
    {
      "cell_type": "code",
      "metadata": {
        "id": "pwGV1DgGSILa",
        "outputId": "b6fcf85a-6149-4d82-fb1c-e9eee16af263",
        "colab": {
          "base_uri": "https://localhost:8080/"
        }
      },
      "source": [
        "len(test_labels)"
      ],
      "execution_count": null,
      "outputs": [
        {
          "output_type": "execute_result",
          "data": {
            "text/plain": [
              "10000"
            ]
          },
          "metadata": {
            "tags": []
          },
          "execution_count": 10
        }
      ]
    },
    {
      "cell_type": "markdown",
      "metadata": {
        "id": "MLEG1xAdSQuH"
      },
      "source": [
        "Preprocess the Data"
      ]
    },
    {
      "cell_type": "code",
      "metadata": {
        "id": "nnInC0r3SVan",
        "outputId": "ff9fdc93-c306-41e0-f75c-0142c2a7f5ac",
        "colab": {
          "base_uri": "https://localhost:8080/",
          "height": 266
        }
      },
      "source": [
        "plt.figure()\n",
        "plt.imshow(train_images[1])\n",
        "plt.colorbar()\n",
        "plt.grid(False)\n",
        "plt.show()"
      ],
      "execution_count": null,
      "outputs": [
        {
          "output_type": "display_data",
          "data": {
            "image/png": "[encoded data removed]",
            "text/plain": [
              "<Figure size 432x288 with 2 Axes>"
            ]
          },
          "metadata": {
            "tags": [],
            "needs_background": "light"
          }
        }
      ]
    },
    {
      "cell_type": "code",
      "metadata": {
        "id": "mXLMi9mNTfLP"
      },
      "source": [
        ""
      ],
      "execution_count": null,
      "outputs": []
    },
    {
      "cell_type": "code",
      "metadata": {
        "id": "n3nfP6gwSexD"
      },
      "source": [
        "train_images = train_images / 255.0\n",
        "\n",
        "test_images = test_images / 255.0\n",
        "\n",
        "# test_labels = train_labels / 255.0"
      ],
      "execution_count": null,
      "outputs": []
    },
    {
      "cell_type": "markdown",
      "metadata": {
        "id": "vIqiAtqZTcxd"
      },
      "source": [
        "Building the Model"
      ]
    },
    {
      "cell_type": "code",
      "metadata": {
        "id": "39lQShdMTgyW",
        "outputId": "60da1625-e6b9-425b-f50f-f2326e8fa021",
        "colab": {
          "base_uri": "https://localhost:8080/"
        }
      },
      "source": [
        "model = keras.Sequential([\n",
        "    tf.keras.Input(shape=(32, 32, 3)),\n",
        "    keras.layers.Flatten(input_shape=(32, 32, 3)),\n",
        "    keras.layers.Dense(128, activation='softmax'),\n",
        "])\n",
        "model.summary()"
      ],
      "execution_count": null,
      "outputs": [
        {
          "output_type": "stream",
          "text": [
            "Model: \"sequential_10\"\n",
            "_________________________________________________________________\n",
            "Layer (type)                 Output Shape              Param #   \n",
            "=================================================================\n",
            "flatten_11 (Flatten)         (None, 3072)              0         \n",
            "_________________________________________________________________\n",
            "dense_15 (Dense)             (None, 128)               393344    \n",
            "=================================================================\n",
            "Total params: 393,344\n",
            "Trainable params: 393,344\n",
            "Non-trainable params: 0\n",
            "_________________________________________________________________\n"
          ],
          "name": "stdout"
        }
      ]
    },
    {
      "cell_type": "markdown",
      "metadata": {
        "id": "jHvROyviTsTF"
      },
      "source": [
        "Compiling Model"
      ]
    },
    {
      "cell_type": "code",
      "metadata": {
        "id": "eQu8X6rWTuhE"
      },
      "source": [
        "loss_fn = tf.keras.losses.SparseCategoricalCrossentropy(from_logits=True)\n",
        "model.compile(optimizer='adam',\n",
        "              loss=tf.keras.losses.SparseCategoricalCrossentropy(from_logits=True),\n",
        "              metrics=['accuracy'])"
      ],
      "execution_count": null,
      "outputs": []
    },
    {
      "cell_type": "markdown",
      "metadata": {
        "id": "t4FrAlqcT0tB"
      },
      "source": [
        "Training the Model"
      ]
    },
    {
      "cell_type": "code",
      "metadata": {
        "id": "a98vSlBdT240",
        "outputId": "d018ada4-e1ff-4efe-98ca-b36d0ff47eb8",
        "colab": {
          "base_uri": "https://localhost:8080/"
        }
      },
      "source": [
        "model.fit(train_images, train_labels, epochs=5)"
      ],
      "execution_count": null,
      "outputs": [
        {
          "output_type": "stream",
          "text": [
            "Epoch 1/5\n",
            "1563/1563 [==============================] - 5s 3ms/step - loss: 4.8553 - accuracy: 0.0100\n",
            "Epoch 2/5\n",
            "1563/1563 [==============================] - 5s 3ms/step - loss: 4.8553 - accuracy: 0.0100\n",
            "Epoch 3/5\n",
            "1563/1563 [==============================] - 5s 3ms/step - loss: 4.8553 - accuracy: 0.0100\n",
            "Epoch 4/5\n",
            "1563/1563 [==============================] - 6s 4ms/step - loss: 4.8553 - accuracy: 0.0100\n",
            "Epoch 5/5\n",
            "1563/1563 [==============================] - 6s 4ms/step - loss: 4.8553 - accuracy: 0.0100\n"
          ],
          "name": "stdout"
        },
        {
          "output_type": "execute_result",
          "data": {
            "text/plain": [
              "<tensorflow.python.keras.callbacks.History at 0x7f6e23771518>"
            ]
          },
          "metadata": {
            "tags": []
          },
          "execution_count": 80
        }
      ]
    },
    {
      "cell_type": "markdown",
      "metadata": {
        "id": "Y3mFjiUMXBTT"
      },
      "source": [
        "How Accurate is it?"
      ]
    },
    {
      "cell_type": "code",
      "metadata": {
        "id": "25lEuu6WXGEY",
        "outputId": "a5f90a8f-0797-45af-f796-3b8488481473",
        "colab": {
          "base_uri": "https://localhost:8080/",
          "height": 404
        }
      },
      "source": [
        "test_loss, test_acc = model.evaluate(test_images,  test_labels, verbose=2)\n",
        "\n",
        "print('\\nTest accuracy:', test_acc)"
      ],
      "execution_count": null,
      "outputs": [
        {
          "output_type": "error",
          "ename": "ValueError",
          "evalue": "ignored",
          "traceback": [
            "\u001b[0;31m---------------------------------------------------------------------------\u001b[0m",
            "\u001b[0;31mValueError\u001b[0m                                Traceback (most recent call last)",
            "\u001b[0;32m<ipython-input-35-90a149360a4d>\u001b[0m in \u001b[0;36m<module>\u001b[0;34m()\u001b[0m\n\u001b[0;32m----> 1\u001b[0;31m \u001b[0mtest_loss\u001b[0m\u001b[0;34m,\u001b[0m \u001b[0mtest_acc\u001b[0m \u001b[0;34m=\u001b[0m \u001b[0mmodel\u001b[0m\u001b[0;34m.\u001b[0m\u001b[0mevaluate\u001b[0m\u001b[0;34m(\u001b[0m\u001b[0mtest_images\u001b[0m\u001b[0;34m,\u001b[0m  \u001b[0mtest_labels\u001b[0m\u001b[0;34m,\u001b[0m \u001b[0mverbose\u001b[0m\u001b[0;34m=\u001b[0m\u001b[0;36m2\u001b[0m\u001b[0;34m)\u001b[0m\u001b[0;34m\u001b[0m\u001b[0;34m\u001b[0m\u001b[0m\n\u001b[0m\u001b[1;32m      2\u001b[0m \u001b[0;34m\u001b[0m\u001b[0m\n\u001b[1;32m      3\u001b[0m \u001b[0mprint\u001b[0m\u001b[0;34m(\u001b[0m\u001b[0;34m'\\nTest accuracy:'\u001b[0m\u001b[0;34m,\u001b[0m \u001b[0mtest_acc\u001b[0m\u001b[0;34m)\u001b[0m\u001b[0;34m\u001b[0m\u001b[0;34m\u001b[0m\u001b[0m\n",
            "\u001b[0;32m/usr/local/lib/python3.6/dist-packages/tensorflow/python/keras/engine/training.py\u001b[0m in \u001b[0;36m_method_wrapper\u001b[0;34m(self, *args, **kwargs)\u001b[0m\n\u001b[1;32m    106\u001b[0m   \u001b[0;32mdef\u001b[0m \u001b[0m_method_wrapper\u001b[0m\u001b[0;34m(\u001b[0m\u001b[0mself\u001b[0m\u001b[0;34m,\u001b[0m \u001b[0;34m*\u001b[0m\u001b[0margs\u001b[0m\u001b[0;34m,\u001b[0m \u001b[0;34m**\u001b[0m\u001b[0mkwargs\u001b[0m\u001b[0;34m)\u001b[0m\u001b[0;34m:\u001b[0m\u001b[0;34m\u001b[0m\u001b[0;34m\u001b[0m\u001b[0m\n\u001b[1;32m    107\u001b[0m     \u001b[0;32mif\u001b[0m \u001b[0;32mnot\u001b[0m \u001b[0mself\u001b[0m\u001b[0;34m.\u001b[0m\u001b[0m_in_multi_worker_mode\u001b[0m\u001b[0;34m(\u001b[0m\u001b[0;34m)\u001b[0m\u001b[0;34m:\u001b[0m  \u001b[0;31m# pylint: disable=protected-access\u001b[0m\u001b[0;34m\u001b[0m\u001b[0;34m\u001b[0m\u001b[0m\n\u001b[0;32m--> 108\u001b[0;31m       \u001b[0;32mreturn\u001b[0m \u001b[0mmethod\u001b[0m\u001b[0;34m(\u001b[0m\u001b[0mself\u001b[0m\u001b[0;34m,\u001b[0m \u001b[0;34m*\u001b[0m\u001b[0margs\u001b[0m\u001b[0;34m,\u001b[0m \u001b[0;34m**\u001b[0m\u001b[0mkwargs\u001b[0m\u001b[0;34m)\u001b[0m\u001b[0;34m\u001b[0m\u001b[0;34m\u001b[0m\u001b[0m\n\u001b[0m\u001b[1;32m    109\u001b[0m \u001b[0;34m\u001b[0m\u001b[0m\n\u001b[1;32m    110\u001b[0m     \u001b[0;31m# Running inside `run_distribute_coordinator` already.\u001b[0m\u001b[0;34m\u001b[0m\u001b[0;34m\u001b[0m\u001b[0;34m\u001b[0m\u001b[0m\n",
            "\u001b[0;32m/usr/local/lib/python3.6/dist-packages/tensorflow/python/keras/engine/training.py\u001b[0m in \u001b[0;36mevaluate\u001b[0;34m(self, x, y, batch_size, verbose, sample_weight, steps, callbacks, max_queue_size, workers, use_multiprocessing, return_dict)\u001b[0m\n\u001b[1;32m   1354\u001b[0m             \u001b[0muse_multiprocessing\u001b[0m\u001b[0;34m=\u001b[0m\u001b[0muse_multiprocessing\u001b[0m\u001b[0;34m,\u001b[0m\u001b[0;34m\u001b[0m\u001b[0;34m\u001b[0m\u001b[0m\n\u001b[1;32m   1355\u001b[0m             \u001b[0mmodel\u001b[0m\u001b[0;34m=\u001b[0m\u001b[0mself\u001b[0m\u001b[0;34m,\u001b[0m\u001b[0;34m\u001b[0m\u001b[0;34m\u001b[0m\u001b[0m\n\u001b[0;32m-> 1356\u001b[0;31m             steps_per_execution=self._steps_per_execution)\n\u001b[0m\u001b[1;32m   1357\u001b[0m \u001b[0;34m\u001b[0m\u001b[0m\n\u001b[1;32m   1358\u001b[0m       \u001b[0;31m# Container that configures and calls `tf.keras.Callback`s.\u001b[0m\u001b[0;34m\u001b[0m\u001b[0;34m\u001b[0m\u001b[0;34m\u001b[0m\u001b[0m\n",
            "\u001b[0;32m/usr/local/lib/python3.6/dist-packages/tensorflow/python/keras/engine/data_adapter.py\u001b[0m in \u001b[0;36m__init__\u001b[0;34m(self, x, y, sample_weight, batch_size, steps_per_epoch, initial_epoch, epochs, shuffle, class_weight, max_queue_size, workers, use_multiprocessing, model, steps_per_execution)\u001b[0m\n\u001b[1;32m   1115\u001b[0m         \u001b[0muse_multiprocessing\u001b[0m\u001b[0;34m=\u001b[0m\u001b[0muse_multiprocessing\u001b[0m\u001b[0;34m,\u001b[0m\u001b[0;34m\u001b[0m\u001b[0;34m\u001b[0m\u001b[0m\n\u001b[1;32m   1116\u001b[0m         \u001b[0mdistribution_strategy\u001b[0m\u001b[0;34m=\u001b[0m\u001b[0mds_context\u001b[0m\u001b[0;34m.\u001b[0m\u001b[0mget_strategy\u001b[0m\u001b[0;34m(\u001b[0m\u001b[0;34m)\u001b[0m\u001b[0;34m,\u001b[0m\u001b[0;34m\u001b[0m\u001b[0;34m\u001b[0m\u001b[0m\n\u001b[0;32m-> 1117\u001b[0;31m         model=model)\n\u001b[0m\u001b[1;32m   1118\u001b[0m \u001b[0;34m\u001b[0m\u001b[0m\n\u001b[1;32m   1119\u001b[0m     \u001b[0mstrategy\u001b[0m \u001b[0;34m=\u001b[0m \u001b[0mds_context\u001b[0m\u001b[0;34m.\u001b[0m\u001b[0mget_strategy\u001b[0m\u001b[0;34m(\u001b[0m\u001b[0;34m)\u001b[0m\u001b[0;34m\u001b[0m\u001b[0;34m\u001b[0m\u001b[0m\n",
            "\u001b[0;32m/usr/local/lib/python3.6/dist-packages/tensorflow/python/keras/engine/data_adapter.py\u001b[0m in \u001b[0;36m__init__\u001b[0;34m(self, x, y, sample_weights, sample_weight_modes, batch_size, epochs, steps, shuffle, **kwargs)\u001b[0m\n\u001b[1;32m    280\u001b[0m             label, \", \".join(str(i.shape[0]) for i in nest.flatten(data)))\n\u001b[1;32m    281\u001b[0m       \u001b[0mmsg\u001b[0m \u001b[0;34m+=\u001b[0m \u001b[0;34m\"Please provide data which shares the same first dimension.\"\u001b[0m\u001b[0;34m\u001b[0m\u001b[0;34m\u001b[0m\u001b[0m\n\u001b[0;32m--> 282\u001b[0;31m       \u001b[0;32mraise\u001b[0m \u001b[0mValueError\u001b[0m\u001b[0;34m(\u001b[0m\u001b[0mmsg\u001b[0m\u001b[0;34m)\u001b[0m\u001b[0;34m\u001b[0m\u001b[0;34m\u001b[0m\u001b[0m\n\u001b[0m\u001b[1;32m    283\u001b[0m     \u001b[0mnum_samples\u001b[0m \u001b[0;34m=\u001b[0m \u001b[0mnum_samples\u001b[0m\u001b[0;34m.\u001b[0m\u001b[0mpop\u001b[0m\u001b[0;34m(\u001b[0m\u001b[0;34m)\u001b[0m\u001b[0;34m\u001b[0m\u001b[0;34m\u001b[0m\u001b[0m\n\u001b[1;32m    284\u001b[0m \u001b[0;34m\u001b[0m\u001b[0m\n",
            "\u001b[0;31mValueError\u001b[0m: Data cardinality is ambiguous:\n  x sizes: 10000\n  y sizes: 50000\nPlease provide data which shares the same first dimension."
          ]
        }
      ]
    },
    {
      "cell_type": "markdown",
      "metadata": {
        "id": "eAOze8jQXwlv"
      },
      "source": [
        "# Making Predictions"
      ]
    },
    {
      "cell_type": "code",
      "metadata": {
        "id": "IexAWmldX1XX"
      },
      "source": [
        "probability_model = tf.keras.Sequential([model, \n",
        "                                         tf.keras.layers.Softmax()])"
      ],
      "execution_count": null,
      "outputs": []
    },
    {
      "cell_type": "code",
      "metadata": {
        "id": "pKf_AR7hX5fs"
      },
      "source": [
        "predictions = probability_model.predict(test_images)"
      ],
      "execution_count": null,
      "outputs": []
    },
    {
      "cell_type": "code",
      "metadata": {
        "id": "-wt1MeTlYBKZ",
        "outputId": "96ed6b7c-678e-4afd-a318-bb6e4280f9c5",
        "colab": {
          "base_uri": "https://localhost:8080/"
        }
      },
      "source": [
        "predictions[5]"
      ],
      "execution_count": null,
      "outputs": [
        {
          "output_type": "execute_result",
          "data": {
            "text/plain": [
              "array([0.00768726, 0.00768726, 0.00768726, 0.00768726, 0.00768726,\n",
              "       0.00768726, 0.00768726, 0.00768726, 0.00768726, 0.00768726,\n",
              "       0.00768726, 0.00768726, 0.00768726, 0.00768726, 0.00768726,\n",
              "       0.00768726, 0.00768726, 0.00768726, 0.00768726, 0.00768726,\n",
              "       0.00768726, 0.00768726, 0.00768726, 0.00768726, 0.00768726,\n",
              "       0.00768726, 0.00768726, 0.00768726, 0.00768726, 0.00768726,\n",
              "       0.00768726, 0.00768726, 0.00768726, 0.00768726, 0.00768726,\n",
              "       0.00768726, 0.00768726, 0.00768726, 0.00768726, 0.01000717,\n",
              "       0.00768726, 0.00768726, 0.00768726, 0.00768726, 0.00768726,\n",
              "       0.00768726, 0.00768726, 0.00768726, 0.01001735, 0.00768726,\n",
              "       0.00995549, 0.00768726, 0.00768726, 0.00768726, 0.00768726,\n",
              "       0.00768726, 0.00768726, 0.00768726, 0.00768726, 0.00768726,\n",
              "       0.00768726, 0.00768726, 0.00768726, 0.00768726, 0.00768726,\n",
              "       0.00768726, 0.00768726, 0.00768726, 0.00768726, 0.00768726,\n",
              "       0.00768726, 0.00768726, 0.00768726, 0.00768726, 0.00768726,\n",
              "       0.00768726, 0.00989428, 0.00768726, 0.00768726, 0.00768726,\n",
              "       0.00768726, 0.01003423, 0.00768726, 0.00768726, 0.00768726,\n",
              "       0.00988163, 0.00768726, 0.00768726, 0.00768726, 0.00768726,\n",
              "       0.00768726, 0.00768726, 0.00768726, 0.00768726, 0.01005121,\n",
              "       0.00768726, 0.00768726, 0.00768726, 0.00768726, 0.00768726,\n",
              "       0.00768726, 0.00768726, 0.00768726, 0.00768726, 0.00768726,\n",
              "       0.00768726, 0.00768726, 0.00768726, 0.00768726, 0.00768726,\n",
              "       0.00768726, 0.00768726, 0.00768726, 0.00768726, 0.00768726,\n",
              "       0.00768726, 0.00768726, 0.00768726, 0.00768726, 0.00768726,\n",
              "       0.00768726, 0.00768726, 0.00768726, 0.00768726, 0.00768726,\n",
              "       0.00768726, 0.00768726, 0.00768726], dtype=float32)"
            ]
          },
          "metadata": {
            "tags": []
          },
          "execution_count": 40
        }
      ]
    },
    {
      "cell_type": "code",
      "metadata": {
        "id": "JVKEBWxVYrL3",
        "outputId": "9cb0b215-69ba-4fff-cd29-b61701ab11a4",
        "colab": {
          "base_uri": "https://localhost:8080/"
        }
      },
      "source": [
        "np.argmax(predictions[0])"
      ],
      "execution_count": null,
      "outputs": [
        {
          "output_type": "execute_result",
          "data": {
            "text/plain": [
              "39"
            ]
          },
          "metadata": {
            "tags": []
          },
          "execution_count": 41
        }
      ]
    },
    {
      "cell_type": "code",
      "metadata": {
        "id": "DBT6OZgVYxgy",
        "outputId": "9ff26804-962d-45f4-d490-8065cdfa45ed",
        "colab": {
          "base_uri": "https://localhost:8080/"
        }
      },
      "source": [
        "test_labels[0]"
      ],
      "execution_count": null,
      "outputs": [
        {
          "output_type": "execute_result",
          "data": {
            "text/plain": [
              "array([0.0745098])"
            ]
          },
          "metadata": {
            "tags": []
          },
          "execution_count": 42
        }
      ]
    },
    {
      "cell_type": "code",
      "metadata": {
        "id": "432_jbK7aKQm"
      },
      "source": [
        "\n",
        "def plot_value_array(i, predictions_array, true_label):\n",
        "  true_label = true_label[i]\n",
        "  plt.grid(False)\n",
        "  plt.xticks(range(10))\n",
        "  plt.yticks([])\n",
        "  thisplot = plt.bar(range(10), predictions_array, color=\"#777777\")\n",
        "  plt.ylim([0, 1])\n",
        "  predicted_label = np.argmax(predictions_array)\n",
        "\n",
        "  thisplot[predicted_label].set_color('red')\n",
        "  thisplot[true_label].set_color('blue')"
      ],
      "execution_count": null,
      "outputs": []
    },
    {
      "cell_type": "markdown",
      "metadata": {
        "id": "LpJjIW4NZrzM"
      },
      "source": [
        "# Using the Trained Model\n"
      ]
    },
    {
      "cell_type": "code",
      "metadata": {
        "id": "2CTj_DtdZx-q",
        "outputId": "612e88a1-886e-4f38-ffe6-86ac1f0ebc1e",
        "colab": {
          "base_uri": "https://localhost:8080/"
        }
      },
      "source": [
        "# Grab an image from the test dataset.\n",
        "img = test_images[1]\n",
        "\n",
        "print(img.shape)"
      ],
      "execution_count": null,
      "outputs": [
        {
          "output_type": "stream",
          "text": [
            "(32, 32, 3)\n"
          ],
          "name": "stdout"
        }
      ]
    },
    {
      "cell_type": "code",
      "metadata": {
        "id": "akyYvGZZZ2t2",
        "outputId": "20df2598-6dc5-4acd-dfcd-5317cc812616",
        "colab": {
          "base_uri": "https://localhost:8080/"
        }
      },
      "source": [
        "# Add the image to a batch where it's the only member.\n",
        "img = (np.expand_dims(img,0))\n",
        "\n",
        "print(img.shape)"
      ],
      "execution_count": null,
      "outputs": [
        {
          "output_type": "stream",
          "text": [
            "(1, 32, 32, 3)\n"
          ],
          "name": "stdout"
        }
      ]
    },
    {
      "cell_type": "code",
      "metadata": {
        "id": "_WUmQvGkZ4zT",
        "outputId": "40806fb2-b24a-4a83-bcee-d53aad32df65",
        "colab": {
          "base_uri": "https://localhost:8080/"
        }
      },
      "source": [
        "predictions_single = probability_model.predict(img)\n",
        "\n",
        "print(predictions_single)"
      ],
      "execution_count": null,
      "outputs": [
        {
          "output_type": "stream",
          "text": [
            "[[0.00768704 0.00768704 0.00768704 0.00768704 0.00768704 0.00768704\n",
            "  0.00768704 0.00768704 0.00768704 0.00768704 0.00768704 0.00768704\n",
            "  0.00768704 0.00768704 0.00768704 0.00768704 0.00768704 0.00768704\n",
            "  0.00768704 0.00768704 0.00768704 0.00768704 0.00768704 0.00768704\n",
            "  0.00768704 0.00768704 0.00768704 0.00768704 0.00768704 0.00768704\n",
            "  0.00768704 0.00768704 0.00768704 0.00768704 0.00768704 0.00768704\n",
            "  0.00768704 0.00768704 0.00768704 0.01001546 0.00768704 0.00768704\n",
            "  0.00768704 0.00768704 0.00768704 0.00768704 0.00768704 0.00768704\n",
            "  0.01001592 0.00768704 0.00995285 0.00768704 0.00768704 0.00768704\n",
            "  0.00768704 0.00768704 0.00768704 0.00768704 0.00768704 0.00768704\n",
            "  0.00768704 0.00768704 0.00768704 0.00768704 0.00768704 0.00768704\n",
            "  0.00768704 0.00768704 0.00768704 0.00768704 0.00768704 0.00768704\n",
            "  0.00768704 0.00768704 0.00768704 0.00768704 0.00991284 0.00768704\n",
            "  0.00768704 0.00768704 0.00768704 0.01003722 0.00768704 0.00768704\n",
            "  0.00768704 0.0098894  0.00768704 0.00768704 0.00768704 0.00768704\n",
            "  0.00768704 0.00768704 0.00768704 0.00768704 0.01004459 0.00768704\n",
            "  0.00768704 0.00768704 0.00768704 0.00768704 0.00768704 0.00768704\n",
            "  0.00768704 0.00768704 0.00768704 0.00768704 0.00768704 0.00768704\n",
            "  0.00768704 0.00768704 0.00768704 0.00768704 0.00768704 0.00768704\n",
            "  0.00768704 0.00768704 0.00768704 0.00768704 0.00768704 0.00768704\n",
            "  0.00768704 0.00768704 0.00768704 0.00768704 0.00768704 0.00768704\n",
            "  0.00768704 0.00768704]]\n"
          ],
          "name": "stdout"
        }
      ]
    },
    {
      "cell_type": "code",
      "metadata": {
        "id": "3S-sxO21Z7Ye"
      },
      "source": [
        "plot_value_array(1, predictions_single[0], test_labels)\n",
        "_ = plt.xticks(range(10), class_names, rotation=45)"
      ],
      "execution_count": null,
      "outputs": []
    },
    {
      "cell_type": "code",
      "metadata": {
        "id": "ll--A_kNZ9dW",
        "outputId": "e1cc9a74-aa46-4f67-ef7f-27490b0e0dd1",
        "colab": {
          "base_uri": "https://localhost:8080/"
        }
      },
      "source": [
        "np.argmax(predictions_single[0])"
      ],
      "execution_count": null,
      "outputs": [
        {
          "output_type": "execute_result",
          "data": {
            "text/plain": [
              "94"
            ]
          },
          "metadata": {
            "tags": []
          },
          "execution_count": 47
        }
      ]
    }
  ]
}